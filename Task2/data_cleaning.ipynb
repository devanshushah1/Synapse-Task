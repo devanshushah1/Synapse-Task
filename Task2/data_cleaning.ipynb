{
 "cells": [
  {
   "cell_type": "code",
   "execution_count": 77,
   "metadata": {},
   "outputs": [],
   "source": [
    "import pandas as pd\n",
    "import matplotlib.pyplot as plt\n",
    "\n",
    "data = 'data.json'"
   ]
  },
  {
   "cell_type": "code",
   "execution_count": 78,
   "metadata": {},
   "outputs": [],
   "source": [
    "df = pd.read_json(data)\n",
    "ex = pd.DataFrame([x for x in df.data])\n",
    "ex = ex.drop(columns = [\"session_id\", \"client_time\", \"location\"])\n",
    "ex = ex[(ex.category == \"Sports\")|(ex.category == \"Environment\")]\n",
    "final = ex[ex.event_name == \"Fund Project\"]"
   ]
  },
  {
   "cell_type": "code",
   "execution_count": 79,
   "metadata": {},
   "outputs": [
    {
     "data": {
      "text/html": [
       "<div>\n",
       "<style scoped>\n",
       "    .dataframe tbody tr th:only-of-type {\n",
       "        vertical-align: middle;\n",
       "    }\n",
       "\n",
       "    .dataframe tbody tr th {\n",
       "        vertical-align: top;\n",
       "    }\n",
       "\n",
       "    .dataframe thead th {\n",
       "        text-align: right;\n",
       "    }\n",
       "</style>\n",
       "<table border=\"1\" class=\"dataframe\">\n",
       "  <thead>\n",
       "    <tr style=\"text-align: right;\">\n",
       "      <th></th>\n",
       "      <th>category</th>\n",
       "      <th>event_name</th>\n",
       "      <th>gender</th>\n",
       "      <th>age</th>\n",
       "      <th>marital_status</th>\n",
       "      <th>device</th>\n",
       "      <th>amount</th>\n",
       "    </tr>\n",
       "  </thead>\n",
       "  <tbody>\n",
       "    <tr>\n",
       "      <th>16</th>\n",
       "      <td>Sports</td>\n",
       "      <td>Fund Project</td>\n",
       "      <td>M</td>\n",
       "      <td>18-24</td>\n",
       "      <td>married</td>\n",
       "      <td>android</td>\n",
       "      <td>31.0</td>\n",
       "    </tr>\n",
       "    <tr>\n",
       "      <th>35</th>\n",
       "      <td>Sports</td>\n",
       "      <td>Fund Project</td>\n",
       "      <td>M</td>\n",
       "      <td>18-24</td>\n",
       "      <td>married</td>\n",
       "      <td>android</td>\n",
       "      <td>40.0</td>\n",
       "    </tr>\n",
       "    <tr>\n",
       "      <th>78</th>\n",
       "      <td>Sports</td>\n",
       "      <td>Fund Project</td>\n",
       "      <td>F</td>\n",
       "      <td>18-24</td>\n",
       "      <td>single</td>\n",
       "      <td>android</td>\n",
       "      <td>53.0</td>\n",
       "    </tr>\n",
       "    <tr>\n",
       "      <th>100</th>\n",
       "      <td>Sports</td>\n",
       "      <td>Fund Project</td>\n",
       "      <td>F</td>\n",
       "      <td>18-24</td>\n",
       "      <td>married</td>\n",
       "      <td>iOS</td>\n",
       "      <td>48.0</td>\n",
       "    </tr>\n",
       "    <tr>\n",
       "      <th>131</th>\n",
       "      <td>Sports</td>\n",
       "      <td>Fund Project</td>\n",
       "      <td>M</td>\n",
       "      <td>45-54</td>\n",
       "      <td>single</td>\n",
       "      <td>android</td>\n",
       "      <td>27.0</td>\n",
       "    </tr>\n",
       "    <tr>\n",
       "      <th>...</th>\n",
       "      <td>...</td>\n",
       "      <td>...</td>\n",
       "      <td>...</td>\n",
       "      <td>...</td>\n",
       "      <td>...</td>\n",
       "      <td>...</td>\n",
       "      <td>...</td>\n",
       "    </tr>\n",
       "    <tr>\n",
       "      <th>49984</th>\n",
       "      <td>Environment</td>\n",
       "      <td>Fund Project</td>\n",
       "      <td>M</td>\n",
       "      <td>18-24</td>\n",
       "      <td>married</td>\n",
       "      <td>android</td>\n",
       "      <td>23.0</td>\n",
       "    </tr>\n",
       "    <tr>\n",
       "      <th>49989</th>\n",
       "      <td>Sports</td>\n",
       "      <td>Fund Project</td>\n",
       "      <td>M</td>\n",
       "      <td>18-24</td>\n",
       "      <td>single</td>\n",
       "      <td>iOS</td>\n",
       "      <td>37.0</td>\n",
       "    </tr>\n",
       "    <tr>\n",
       "      <th>49994</th>\n",
       "      <td>Environment</td>\n",
       "      <td>Fund Project</td>\n",
       "      <td>F</td>\n",
       "      <td>35-44</td>\n",
       "      <td>single</td>\n",
       "      <td>android</td>\n",
       "      <td>35.0</td>\n",
       "    </tr>\n",
       "    <tr>\n",
       "      <th>49995</th>\n",
       "      <td>Sports</td>\n",
       "      <td>Fund Project</td>\n",
       "      <td>F</td>\n",
       "      <td>18-24</td>\n",
       "      <td>married</td>\n",
       "      <td>iOS</td>\n",
       "      <td>35.0</td>\n",
       "    </tr>\n",
       "    <tr>\n",
       "      <th>49998</th>\n",
       "      <td>Sports</td>\n",
       "      <td>Fund Project</td>\n",
       "      <td>F</td>\n",
       "      <td>35-44</td>\n",
       "      <td>married</td>\n",
       "      <td>iOS</td>\n",
       "      <td>37.0</td>\n",
       "    </tr>\n",
       "  </tbody>\n",
       "</table>\n",
       "<p>8268 rows × 7 columns</p>\n",
       "</div>"
      ],
      "text/plain": [
       "          category    event_name gender    age marital_status   device  amount\n",
       "16          Sports  Fund Project      M  18-24        married  android    31.0\n",
       "35          Sports  Fund Project      M  18-24        married  android    40.0\n",
       "78          Sports  Fund Project      F  18-24         single  android    53.0\n",
       "100         Sports  Fund Project      F  18-24        married      iOS    48.0\n",
       "131         Sports  Fund Project      M  45-54         single  android    27.0\n",
       "...            ...           ...    ...    ...            ...      ...     ...\n",
       "49984  Environment  Fund Project      M  18-24        married  android    23.0\n",
       "49989       Sports  Fund Project      M  18-24         single      iOS    37.0\n",
       "49994  Environment  Fund Project      F  35-44         single  android    35.0\n",
       "49995       Sports  Fund Project      F  18-24        married      iOS    35.0\n",
       "49998       Sports  Fund Project      F  35-44        married      iOS    37.0\n",
       "\n",
       "[8268 rows x 7 columns]"
      ]
     },
     "execution_count": 79,
     "metadata": {},
     "output_type": "execute_result"
    }
   ],
   "source": [
    "final"
   ]
  },
  {
   "cell_type": "code",
   "execution_count": 80,
   "metadata": {},
   "outputs": [
    {
     "data": {
      "text/plain": [
       "[4186, 1005, 1032, 1031, 1014]"
      ]
     },
     "execution_count": 80,
     "metadata": {},
     "output_type": "execute_result"
    }
   ],
   "source": [
    "age_group = list(set(final.age))\n",
    "age_group.sort()\n",
    "total_dono = []\n",
    "for x in age_group:\n",
    "    z = final[final.age == x]\n",
    "    total_dono.append(len(z.index))\n",
    "total_dono"
   ]
  },
  {
   "cell_type": "code",
   "execution_count": 81,
   "metadata": {},
   "outputs": [
    {
     "data": {
      "text/plain": [
       "<BarContainer object of 5 artists>"
      ]
     },
     "execution_count": 81,
     "metadata": {},
     "output_type": "execute_result"
    },
    {
     "data": {
      "image/png": "[encoded data removed]",
      "text/plain": [
       "<Figure size 432x288 with 1 Axes>"
      ]
     },
     "metadata": {
      "needs_background": "light"
     },
     "output_type": "display_data"
    }
   ],
   "source": [
    "fig = plt.figure()\n",
    "ax = fig.add_axes([0,0,1,1])\n",
    "ax.bar(age_group, total_dono)\n"
   ]
  },
  {
   "cell_type": "code",
   "execution_count": 91,
   "metadata": {},
   "outputs": [],
   "source": [
    "total_age = []\n",
    "total_age_dono = []\n",
    "\n",
    "for x in age_group:\n",
    "    z = ex[ex.age == x]\n",
    "    total_age.append(len(z.index))\n",
    "    y = z[z.event_name == \"Fund Project\"]\n",
    "    total_age_dono.append(len(y.index))"
   ]
  },
  {
   "cell_type": "code",
   "execution_count": 92,
   "metadata": {},
   "outputs": [
    {
     "data": {
      "image/png": "[encoded data removed]",
      "text/plain": [
       "<Figure size 432x288 with 1 Axes>"
      ]
     },
     "metadata": {
      "needs_background": "light"
     },
     "output_type": "display_data"
    }
   ],
   "source": [
    "import numpy as np\n",
    "x = np.arange(5)\n",
    "ax1 = plt.subplot(1,1,1)\n",
    "w = 0.3\n",
    "plt.xticks(x+w/2, age_group, rotation='vertical')\n",
    "tot = ax1.bar(x, total_age, width=w, color=\"b\", align='center')\n",
    "dono = ax1.bar(x+w, total_age_dono, width=w, color=\"g\", align='center')\n",
    "plt.ylabel('Total')\n",
    "# ax2 = ax1.twinx()\n",
    "# dono = ax2.bar(x+w, total_age_dono, width=w, color='g', align='center')\n",
    "# plt.ylabel('Total Donated')\n",
    "plt.legend([tot, dono], [\"Total Users in 1000s\", \"Total Users Donated in 1000s\"])\n",
    "plt.show()"
   ]
  },
  {
   "cell_type": "code",
   "execution_count": 88,
   "metadata": {},
   "outputs": [
    {
     "data": {
      "text/plain": [
       "[3751, 3893, 624]"
      ]
     },
     "execution_count": 88,
     "metadata": {},
     "output_type": "execute_result"
    }
   ],
   "source": [
    "gender_dono = []\n",
    "gender_cat = [\"M\", \"F\", \"U\"]\n",
    "for x in gender_cat:\n",
    "    z = final[final.gender == x]\n",
    "    gender_dono.append(len(z.index))\n",
    "gender_dono"
   ]
  },
  {
   "cell_type": "code",
   "execution_count": 120,
   "metadata": {},
   "outputs": [
    {
     "data": {
      "image/png": "[encoded data removed]",
      "text/plain": [
       "<Figure size 432x288 with 1 Axes>"
      ]
     },
     "metadata": {},
     "output_type": "display_data"
    }
   ],
   "source": [
    "labels = \"M\", \"F\", \"U\"\n",
    "plt.pie(gender_dono, labels = labels, autopct = '%1.1f%%')\n",
    "plt.show()"
   ]
  },
  {
   "cell_type": "code",
   "execution_count": null,
   "metadata": {},
   "outputs": [],
   "source": []
  }
 ],
 "metadata": {
  "kernelspec": {
   "display_name": "Python 3",
   "language": "python",
   "name": "python3"
  },
  "language_info": {
   "codemirror_mode": {
    "name": "ipython",
    "version": 3
   },
   "file_extension": ".py",
   "mimetype": "text/x-python",
   "name": "python",
   "nbconvert_exporter": "python",
   "pygments_lexer": "ipython3",
   "version": "3.8.3"
  }
 },
 "nbformat": 4,
 "nbformat_minor": 4
}
